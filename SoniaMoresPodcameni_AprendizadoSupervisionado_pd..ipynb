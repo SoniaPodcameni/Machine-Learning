{
 "cells": [
  {
   "cell_type": "markdown",
   "id": "40ee162e",
   "metadata": {},
   "source": [
    "Iremos usar a base de dados de vinhos verdes portugueses (nas variantes branco e tinto) que encontra-se disponível no Kaggle:\n",
    "\n",
    "Para as questões 2-5 usaremos apenas os vinhos do tipo \"branco\"."
   ]
  },
  {
   "cell_type": "markdown",
   "id": "cbf98e05",
   "metadata": {},
   "source": [
    "2.\tFaça o download da base - esta é uma base real, apresentada no artigo:\n",
    "P. Cortez, A. Cerdeira, F. Almeida, T. Matos and J. Reis. Modeling wine preferences by data mining from physicochemical properties. In Decision Support Systems, Elsevier, 47(4):547-553, 2009.\n",
    "\n",
    "Ela possui uma variável denominada \"quality\", uma nota de 0 a 10 que denota a qualidade do vinho. Crie uma nova variável, chamada \"opinion\" que será uma variável categórica igual à 0, quando quality for menor e igual à 5. O valor será 1, caso contrário. Desconsidere a variável quality para o restante da análise.\n"
   ]
  },
  {
   "cell_type": "code",
   "execution_count": 1,
   "id": "929fb8c0",
   "metadata": {},
   "outputs": [],
   "source": [
    "import pandas as pd\n",
    "import numpy as np\n",
    "import matplotlib.pyplot as plt\n",
    "import seaborn as sns"
   ]
  },
  {
   "cell_type": "code",
   "execution_count": 2,
   "id": "94293065",
   "metadata": {},
   "outputs": [],
   "source": [
    "# Importando a base de dados winequalityN\n",
    "\n",
    "df = pd.read_csv('winequalityN.csv')"
   ]
  },
  {
   "cell_type": "code",
   "execution_count": 3,
   "id": "54c2aae3",
   "metadata": {},
   "outputs": [
    {
     "data": {
      "text/html": [
       "<div>\n",
       "<style scoped>\n",
       "    .dataframe tbody tr th:only-of-type {\n",
       "        vertical-align: middle;\n",
       "    }\n",
       "\n",
       "    .dataframe tbody tr th {\n",
       "        vertical-align: top;\n",
       "    }\n",
       "\n",
       "    .dataframe thead th {\n",
       "        text-align: right;\n",
       "    }\n",
       "</style>\n",
       "<table border=\"1\" class=\"dataframe\">\n",
       "  <thead>\n",
       "    <tr style=\"text-align: right;\">\n",
       "      <th></th>\n",
       "      <th>type</th>\n",
       "      <th>fixed acidity</th>\n",
       "      <th>volatile acidity</th>\n",
       "      <th>citric acid</th>\n",
       "      <th>residual sugar</th>\n",
       "      <th>chlorides</th>\n",
       "      <th>free sulfur dioxide</th>\n",
       "      <th>total sulfur dioxide</th>\n",
       "      <th>density</th>\n",
       "      <th>pH</th>\n",
       "      <th>sulphates</th>\n",
       "      <th>alcohol</th>\n",
       "      <th>quality</th>\n",
       "    </tr>\n",
       "  </thead>\n",
       "  <tbody>\n",
       "    <tr>\n",
       "      <th>6330</th>\n",
       "      <td>red</td>\n",
       "      <td>5.90</td>\n",
       "      <td>0.44</td>\n",
       "      <td>0.00</td>\n",
       "      <td>1.6</td>\n",
       "      <td>0.042</td>\n",
       "      <td>3.0</td>\n",
       "      <td>11.0</td>\n",
       "      <td>0.99440</td>\n",
       "      <td>3.48</td>\n",
       "      <td>0.85</td>\n",
       "      <td>11.7</td>\n",
       "      <td>6</td>\n",
       "    </tr>\n",
       "    <tr>\n",
       "      <th>2649</th>\n",
       "      <td>white</td>\n",
       "      <td>7.15</td>\n",
       "      <td>0.17</td>\n",
       "      <td>0.24</td>\n",
       "      <td>9.6</td>\n",
       "      <td>0.119</td>\n",
       "      <td>56.0</td>\n",
       "      <td>178.0</td>\n",
       "      <td>0.99578</td>\n",
       "      <td>3.15</td>\n",
       "      <td>0.44</td>\n",
       "      <td>10.2</td>\n",
       "      <td>6</td>\n",
       "    </tr>\n",
       "    <tr>\n",
       "      <th>1196</th>\n",
       "      <td>white</td>\n",
       "      <td>6.90</td>\n",
       "      <td>0.25</td>\n",
       "      <td>0.26</td>\n",
       "      <td>5.2</td>\n",
       "      <td>0.024</td>\n",
       "      <td>36.0</td>\n",
       "      <td>135.0</td>\n",
       "      <td>0.99480</td>\n",
       "      <td>3.16</td>\n",
       "      <td>0.72</td>\n",
       "      <td>10.7</td>\n",
       "      <td>7</td>\n",
       "    </tr>\n",
       "  </tbody>\n",
       "</table>\n",
       "</div>"
      ],
      "text/plain": [
       "       type  fixed acidity  volatile acidity  citric acid  residual sugar  \\\n",
       "6330    red           5.90              0.44         0.00             1.6   \n",
       "2649  white           7.15              0.17         0.24             9.6   \n",
       "1196  white           6.90              0.25         0.26             5.2   \n",
       "\n",
       "      chlorides  free sulfur dioxide  total sulfur dioxide  density    pH  \\\n",
       "6330      0.042                  3.0                  11.0  0.99440  3.48   \n",
       "2649      0.119                 56.0                 178.0  0.99578  3.15   \n",
       "1196      0.024                 36.0                 135.0  0.99480  3.16   \n",
       "\n",
       "      sulphates  alcohol  quality  \n",
       "6330       0.85     11.7        6  \n",
       "2649       0.44     10.2        6  \n",
       "1196       0.72     10.7        7  "
      ]
     },
     "execution_count": 3,
     "metadata": {},
     "output_type": "execute_result"
    }
   ],
   "source": [
    "# Verificando uma amostra da base de dados\n",
    "\n",
    "df.sample(3)"
   ]
  },
  {
   "cell_type": "code",
   "execution_count": 4,
   "id": "53e64c51",
   "metadata": {},
   "outputs": [
    {
     "data": {
      "text/plain": [
       "array(['white'], dtype=object)"
      ]
     },
     "execution_count": 4,
     "metadata": {},
     "output_type": "execute_result"
    }
   ],
   "source": [
    "# criando a base referente aos vinhos brancos \n",
    "\n",
    "df_white = df[df['type'] == 'white']\n",
    "\n",
    "df_white['type'].unique()"
   ]
  },
  {
   "cell_type": "code",
   "execution_count": 5,
   "id": "05a23981",
   "metadata": {},
   "outputs": [
    {
     "name": "stdout",
     "output_type": "stream",
     "text": [
      "<class 'pandas.core.frame.DataFrame'>\n",
      "Int64Index: 4898 entries, 0 to 4897\n",
      "Data columns (total 13 columns):\n",
      " #   Column                Non-Null Count  Dtype  \n",
      "---  ------                --------------  -----  \n",
      " 0   type                  4898 non-null   object \n",
      " 1   fixed acidity         4890 non-null   float64\n",
      " 2   volatile acidity      4891 non-null   float64\n",
      " 3   citric acid           4896 non-null   float64\n",
      " 4   residual sugar        4896 non-null   float64\n",
      " 5   chlorides             4896 non-null   float64\n",
      " 6   free sulfur dioxide   4898 non-null   float64\n",
      " 7   total sulfur dioxide  4898 non-null   float64\n",
      " 8   density               4898 non-null   float64\n",
      " 9   pH                    4891 non-null   float64\n",
      " 10  sulphates             4896 non-null   float64\n",
      " 11  alcohol               4898 non-null   float64\n",
      " 12  quality               4898 non-null   int64  \n",
      "dtypes: float64(11), int64(1), object(1)\n",
      "memory usage: 535.7+ KB\n"
     ]
    }
   ],
   "source": [
    "# Verificando as informações da base\n",
    "\n",
    "df_white.info()"
   ]
  },
  {
   "cell_type": "code",
   "execution_count": 6,
   "id": "a69acf07",
   "metadata": {},
   "outputs": [
    {
     "data": {
      "text/html": [
       "<div>\n",
       "<style scoped>\n",
       "    .dataframe tbody tr th:only-of-type {\n",
       "        vertical-align: middle;\n",
       "    }\n",
       "\n",
       "    .dataframe tbody tr th {\n",
       "        vertical-align: top;\n",
       "    }\n",
       "\n",
       "    .dataframe thead th {\n",
       "        text-align: right;\n",
       "    }\n",
       "</style>\n",
       "<table border=\"1\" class=\"dataframe\">\n",
       "  <thead>\n",
       "    <tr style=\"text-align: right;\">\n",
       "      <th></th>\n",
       "      <th>fixed acidity</th>\n",
       "      <th>volatile acidity</th>\n",
       "      <th>citric acid</th>\n",
       "      <th>residual sugar</th>\n",
       "      <th>chlorides</th>\n",
       "      <th>free sulfur dioxide</th>\n",
       "      <th>total sulfur dioxide</th>\n",
       "      <th>density</th>\n",
       "      <th>pH</th>\n",
       "      <th>sulphates</th>\n",
       "      <th>alcohol</th>\n",
       "      <th>quality</th>\n",
       "    </tr>\n",
       "  </thead>\n",
       "  <tbody>\n",
       "    <tr>\n",
       "      <th>count</th>\n",
       "      <td>4890.000000</td>\n",
       "      <td>4891.000000</td>\n",
       "      <td>4896.000000</td>\n",
       "      <td>4896.000000</td>\n",
       "      <td>4896.000000</td>\n",
       "      <td>4898.000000</td>\n",
       "      <td>4898.000000</td>\n",
       "      <td>4898.000000</td>\n",
       "      <td>4891.000000</td>\n",
       "      <td>4896.000000</td>\n",
       "      <td>4898.000000</td>\n",
       "      <td>4898.000000</td>\n",
       "    </tr>\n",
       "    <tr>\n",
       "      <th>mean</th>\n",
       "      <td>6.855532</td>\n",
       "      <td>0.278252</td>\n",
       "      <td>0.334250</td>\n",
       "      <td>6.393250</td>\n",
       "      <td>0.045778</td>\n",
       "      <td>35.308085</td>\n",
       "      <td>138.360657</td>\n",
       "      <td>0.994027</td>\n",
       "      <td>3.188203</td>\n",
       "      <td>0.489835</td>\n",
       "      <td>10.514267</td>\n",
       "      <td>5.877909</td>\n",
       "    </tr>\n",
       "    <tr>\n",
       "      <th>std</th>\n",
       "      <td>0.843808</td>\n",
       "      <td>0.100811</td>\n",
       "      <td>0.120985</td>\n",
       "      <td>5.072275</td>\n",
       "      <td>0.021850</td>\n",
       "      <td>17.007137</td>\n",
       "      <td>42.498065</td>\n",
       "      <td>0.002991</td>\n",
       "      <td>0.151014</td>\n",
       "      <td>0.114147</td>\n",
       "      <td>1.230621</td>\n",
       "      <td>0.885639</td>\n",
       "    </tr>\n",
       "    <tr>\n",
       "      <th>min</th>\n",
       "      <td>3.800000</td>\n",
       "      <td>0.080000</td>\n",
       "      <td>0.000000</td>\n",
       "      <td>0.600000</td>\n",
       "      <td>0.009000</td>\n",
       "      <td>2.000000</td>\n",
       "      <td>9.000000</td>\n",
       "      <td>0.987110</td>\n",
       "      <td>2.720000</td>\n",
       "      <td>0.220000</td>\n",
       "      <td>8.000000</td>\n",
       "      <td>3.000000</td>\n",
       "    </tr>\n",
       "    <tr>\n",
       "      <th>25%</th>\n",
       "      <td>6.300000</td>\n",
       "      <td>0.210000</td>\n",
       "      <td>0.270000</td>\n",
       "      <td>1.700000</td>\n",
       "      <td>0.036000</td>\n",
       "      <td>23.000000</td>\n",
       "      <td>108.000000</td>\n",
       "      <td>0.991723</td>\n",
       "      <td>3.090000</td>\n",
       "      <td>0.410000</td>\n",
       "      <td>9.500000</td>\n",
       "      <td>5.000000</td>\n",
       "    </tr>\n",
       "    <tr>\n",
       "      <th>50%</th>\n",
       "      <td>6.800000</td>\n",
       "      <td>0.260000</td>\n",
       "      <td>0.320000</td>\n",
       "      <td>5.200000</td>\n",
       "      <td>0.043000</td>\n",
       "      <td>34.000000</td>\n",
       "      <td>134.000000</td>\n",
       "      <td>0.993740</td>\n",
       "      <td>3.180000</td>\n",
       "      <td>0.470000</td>\n",
       "      <td>10.400000</td>\n",
       "      <td>6.000000</td>\n",
       "    </tr>\n",
       "    <tr>\n",
       "      <th>75%</th>\n",
       "      <td>7.300000</td>\n",
       "      <td>0.320000</td>\n",
       "      <td>0.390000</td>\n",
       "      <td>9.900000</td>\n",
       "      <td>0.050000</td>\n",
       "      <td>46.000000</td>\n",
       "      <td>167.000000</td>\n",
       "      <td>0.996100</td>\n",
       "      <td>3.280000</td>\n",
       "      <td>0.550000</td>\n",
       "      <td>11.400000</td>\n",
       "      <td>6.000000</td>\n",
       "    </tr>\n",
       "    <tr>\n",
       "      <th>max</th>\n",
       "      <td>14.200000</td>\n",
       "      <td>1.100000</td>\n",
       "      <td>1.660000</td>\n",
       "      <td>65.800000</td>\n",
       "      <td>0.346000</td>\n",
       "      <td>289.000000</td>\n",
       "      <td>440.000000</td>\n",
       "      <td>1.038980</td>\n",
       "      <td>3.820000</td>\n",
       "      <td>1.080000</td>\n",
       "      <td>14.200000</td>\n",
       "      <td>9.000000</td>\n",
       "    </tr>\n",
       "  </tbody>\n",
       "</table>\n",
       "</div>"
      ],
      "text/plain": [
       "       fixed acidity  volatile acidity  citric acid  residual sugar  \\\n",
       "count    4890.000000       4891.000000  4896.000000     4896.000000   \n",
       "mean        6.855532          0.278252     0.334250        6.393250   \n",
       "std         0.843808          0.100811     0.120985        5.072275   \n",
       "min         3.800000          0.080000     0.000000        0.600000   \n",
       "25%         6.300000          0.210000     0.270000        1.700000   \n",
       "50%         6.800000          0.260000     0.320000        5.200000   \n",
       "75%         7.300000          0.320000     0.390000        9.900000   \n",
       "max        14.200000          1.100000     1.660000       65.800000   \n",
       "\n",
       "         chlorides  free sulfur dioxide  total sulfur dioxide      density  \\\n",
       "count  4896.000000          4898.000000           4898.000000  4898.000000   \n",
       "mean      0.045778            35.308085            138.360657     0.994027   \n",
       "std       0.021850            17.007137             42.498065     0.002991   \n",
       "min       0.009000             2.000000              9.000000     0.987110   \n",
       "25%       0.036000            23.000000            108.000000     0.991723   \n",
       "50%       0.043000            34.000000            134.000000     0.993740   \n",
       "75%       0.050000            46.000000            167.000000     0.996100   \n",
       "max       0.346000           289.000000            440.000000     1.038980   \n",
       "\n",
       "                pH    sulphates      alcohol      quality  \n",
       "count  4891.000000  4896.000000  4898.000000  4898.000000  \n",
       "mean      3.188203     0.489835    10.514267     5.877909  \n",
       "std       0.151014     0.114147     1.230621     0.885639  \n",
       "min       2.720000     0.220000     8.000000     3.000000  \n",
       "25%       3.090000     0.410000     9.500000     5.000000  \n",
       "50%       3.180000     0.470000    10.400000     6.000000  \n",
       "75%       3.280000     0.550000    11.400000     6.000000  \n",
       "max       3.820000     1.080000    14.200000     9.000000  "
      ]
     },
     "execution_count": 6,
     "metadata": {},
     "output_type": "execute_result"
    }
   ],
   "source": [
    "# Verificando a destribuição dos dados\n",
    "\n",
    "df_white.describe()"
   ]
  },
  {
   "cell_type": "markdown",
   "id": "e4af692c",
   "metadata": {},
   "source": [
    "Crie uma nova variável, chamada \"opinion\" que será uma variável categórica igual à 0, quando quality for menor e igual à 5. O valor será 1, caso contrário. Desconsidere a variável quality para o restante da análise."
   ]
  },
  {
   "cell_type": "code",
   "execution_count": 7,
   "id": "4a761d86",
   "metadata": {},
   "outputs": [
    {
     "name": "stderr",
     "output_type": "stream",
     "text": [
      "C:\\Users\\Samsung\\AppData\\Local\\Temp\\ipykernel_2780\\3319366558.py:2: SettingWithCopyWarning: \n",
      "A value is trying to be set on a copy of a slice from a DataFrame.\n",
      "Try using .loc[row_indexer,col_indexer] = value instead\n",
      "\n",
      "See the caveats in the documentation: https://pandas.pydata.org/pandas-docs/stable/user_guide/indexing.html#returning-a-view-versus-a-copy\n",
      "  df_white['opinion'] = df_white['quality'].apply(lambda x: 0 if x <= 5 else 1)\n"
     ]
    }
   ],
   "source": [
    "# Adicionando nova coluna chamada \"opinion\"\n",
    "df_white['opinion'] = df_white['quality'].apply(lambda x: 0 if x <= 5 else 1)"
   ]
  },
  {
   "cell_type": "code",
   "execution_count": 8,
   "id": "1cbffdaa",
   "metadata": {},
   "outputs": [
    {
     "name": "stderr",
     "output_type": "stream",
     "text": [
      "C:\\Users\\Samsung\\AppData\\Local\\Temp\\ipykernel_2780\\3847926677.py:3: SettingWithCopyWarning: \n",
      "A value is trying to be set on a copy of a slice from a DataFrame\n",
      "\n",
      "See the caveats in the documentation: https://pandas.pydata.org/pandas-docs/stable/user_guide/indexing.html#returning-a-view-versus-a-copy\n",
      "  df_white.drop('quality',axis='columns', inplace=True)\n"
     ]
    }
   ],
   "source": [
    "# Removendo/desconsiderando a coluna quality\n",
    "\n",
    "df_white.drop('quality',axis='columns', inplace=True)"
   ]
  },
  {
   "cell_type": "code",
   "execution_count": 9,
   "id": "48cb0027",
   "metadata": {},
   "outputs": [],
   "source": [
    "# Removendo as linhas com valores nulos\n",
    "\n",
    "df_white = df_white.dropna(axis=0)\n",
    "\n",
    "# Removendo as linhas com duplicadas\n",
    "\n",
    "df_white = df_white.drop_duplicates()"
   ]
  },
  {
   "cell_type": "markdown",
   "id": "25226756",
   "metadata": {},
   "source": [
    "3.Descreva as variáveis presentes na base. Quais são as variáveis? Quais são os tipos de variáveis (discreta, categórica, contínua)?\n",
    "\n",
    "Variáveis categóricas: type\n",
    "\n",
    "Variáveis discretas: opinion\n",
    "\n",
    "Variáveis contínuas: fixed acidity, volatile acidity, citric acid, residual sugar, chlorides, free sulfur dioxide , density, pH, sulphates, alcohol"
   ]
  },
  {
   "cell_type": "markdown",
   "id": "8151b875",
   "metadata": {},
   "source": [
    "Quais são as médias e desvios padrões?"
   ]
  },
  {
   "cell_type": "code",
   "execution_count": 10,
   "id": "4c4f111f",
   "metadata": {},
   "outputs": [
    {
     "data": {
      "text/html": [
       "<div>\n",
       "<style scoped>\n",
       "    .dataframe tbody tr th:only-of-type {\n",
       "        vertical-align: middle;\n",
       "    }\n",
       "\n",
       "    .dataframe tbody tr th {\n",
       "        vertical-align: top;\n",
       "    }\n",
       "\n",
       "    .dataframe thead th {\n",
       "        text-align: right;\n",
       "    }\n",
       "</style>\n",
       "<table border=\"1\" class=\"dataframe\">\n",
       "  <thead>\n",
       "    <tr style=\"text-align: right;\">\n",
       "      <th></th>\n",
       "      <th>fixed acidity</th>\n",
       "      <th>volatile acidity</th>\n",
       "      <th>citric acid</th>\n",
       "      <th>residual sugar</th>\n",
       "      <th>chlorides</th>\n",
       "      <th>free sulfur dioxide</th>\n",
       "      <th>total sulfur dioxide</th>\n",
       "      <th>density</th>\n",
       "      <th>pH</th>\n",
       "      <th>sulphates</th>\n",
       "      <th>alcohol</th>\n",
       "      <th>opinion</th>\n",
       "    </tr>\n",
       "  </thead>\n",
       "  <tbody>\n",
       "    <tr>\n",
       "      <th>count</th>\n",
       "      <td>3942.000000</td>\n",
       "      <td>3942.000000</td>\n",
       "      <td>3942.000000</td>\n",
       "      <td>3942.000000</td>\n",
       "      <td>3942.000000</td>\n",
       "      <td>3942.000000</td>\n",
       "      <td>3942.000000</td>\n",
       "      <td>3942.000000</td>\n",
       "      <td>3942.000000</td>\n",
       "      <td>3942.000000</td>\n",
       "      <td>3942.000000</td>\n",
       "      <td>3942.000000</td>\n",
       "    </tr>\n",
       "    <tr>\n",
       "      <th>mean</th>\n",
       "      <td>6.840297</td>\n",
       "      <td>0.280430</td>\n",
       "      <td>0.334490</td>\n",
       "      <td>5.918721</td>\n",
       "      <td>0.045887</td>\n",
       "      <td>34.918062</td>\n",
       "      <td>137.215753</td>\n",
       "      <td>0.993788</td>\n",
       "      <td>3.195287</td>\n",
       "      <td>0.490236</td>\n",
       "      <td>10.591945</td>\n",
       "      <td>0.659817</td>\n",
       "    </tr>\n",
       "    <tr>\n",
       "      <th>std</th>\n",
       "      <td>0.866067</td>\n",
       "      <td>0.103256</td>\n",
       "      <td>0.122404</td>\n",
       "      <td>4.861389</td>\n",
       "      <td>0.023088</td>\n",
       "      <td>17.227540</td>\n",
       "      <td>43.128509</td>\n",
       "      <td>0.002907</td>\n",
       "      <td>0.151345</td>\n",
       "      <td>0.113653</td>\n",
       "      <td>1.217787</td>\n",
       "      <td>0.473831</td>\n",
       "    </tr>\n",
       "    <tr>\n",
       "      <th>min</th>\n",
       "      <td>3.800000</td>\n",
       "      <td>0.080000</td>\n",
       "      <td>0.000000</td>\n",
       "      <td>0.600000</td>\n",
       "      <td>0.009000</td>\n",
       "      <td>2.000000</td>\n",
       "      <td>9.000000</td>\n",
       "      <td>0.987110</td>\n",
       "      <td>2.720000</td>\n",
       "      <td>0.220000</td>\n",
       "      <td>8.000000</td>\n",
       "      <td>0.000000</td>\n",
       "    </tr>\n",
       "    <tr>\n",
       "      <th>25%</th>\n",
       "      <td>6.300000</td>\n",
       "      <td>0.210000</td>\n",
       "      <td>0.270000</td>\n",
       "      <td>1.600000</td>\n",
       "      <td>0.035000</td>\n",
       "      <td>23.000000</td>\n",
       "      <td>106.000000</td>\n",
       "      <td>0.991600</td>\n",
       "      <td>3.090000</td>\n",
       "      <td>0.410000</td>\n",
       "      <td>9.500000</td>\n",
       "      <td>0.000000</td>\n",
       "    </tr>\n",
       "    <tr>\n",
       "      <th>50%</th>\n",
       "      <td>6.800000</td>\n",
       "      <td>0.260000</td>\n",
       "      <td>0.320000</td>\n",
       "      <td>4.700000</td>\n",
       "      <td>0.042000</td>\n",
       "      <td>33.000000</td>\n",
       "      <td>133.000000</td>\n",
       "      <td>0.993500</td>\n",
       "      <td>3.180000</td>\n",
       "      <td>0.480000</td>\n",
       "      <td>10.400000</td>\n",
       "      <td>1.000000</td>\n",
       "    </tr>\n",
       "    <tr>\n",
       "      <th>75%</th>\n",
       "      <td>7.300000</td>\n",
       "      <td>0.328750</td>\n",
       "      <td>0.390000</td>\n",
       "      <td>8.875000</td>\n",
       "      <td>0.050000</td>\n",
       "      <td>45.000000</td>\n",
       "      <td>166.000000</td>\n",
       "      <td>0.995710</td>\n",
       "      <td>3.290000</td>\n",
       "      <td>0.550000</td>\n",
       "      <td>11.400000</td>\n",
       "      <td>1.000000</td>\n",
       "    </tr>\n",
       "    <tr>\n",
       "      <th>max</th>\n",
       "      <td>14.200000</td>\n",
       "      <td>1.100000</td>\n",
       "      <td>1.660000</td>\n",
       "      <td>65.800000</td>\n",
       "      <td>0.346000</td>\n",
       "      <td>289.000000</td>\n",
       "      <td>440.000000</td>\n",
       "      <td>1.038980</td>\n",
       "      <td>3.820000</td>\n",
       "      <td>1.080000</td>\n",
       "      <td>14.200000</td>\n",
       "      <td>1.000000</td>\n",
       "    </tr>\n",
       "  </tbody>\n",
       "</table>\n",
       "</div>"
      ],
      "text/plain": [
       "       fixed acidity  volatile acidity  citric acid  residual sugar  \\\n",
       "count    3942.000000       3942.000000  3942.000000     3942.000000   \n",
       "mean        6.840297          0.280430     0.334490        5.918721   \n",
       "std         0.866067          0.103256     0.122404        4.861389   \n",
       "min         3.800000          0.080000     0.000000        0.600000   \n",
       "25%         6.300000          0.210000     0.270000        1.600000   \n",
       "50%         6.800000          0.260000     0.320000        4.700000   \n",
       "75%         7.300000          0.328750     0.390000        8.875000   \n",
       "max        14.200000          1.100000     1.660000       65.800000   \n",
       "\n",
       "         chlorides  free sulfur dioxide  total sulfur dioxide      density  \\\n",
       "count  3942.000000          3942.000000           3942.000000  3942.000000   \n",
       "mean      0.045887            34.918062            137.215753     0.993788   \n",
       "std       0.023088            17.227540             43.128509     0.002907   \n",
       "min       0.009000             2.000000              9.000000     0.987110   \n",
       "25%       0.035000            23.000000            106.000000     0.991600   \n",
       "50%       0.042000            33.000000            133.000000     0.993500   \n",
       "75%       0.050000            45.000000            166.000000     0.995710   \n",
       "max       0.346000           289.000000            440.000000     1.038980   \n",
       "\n",
       "                pH    sulphates      alcohol      opinion  \n",
       "count  3942.000000  3942.000000  3942.000000  3942.000000  \n",
       "mean      3.195287     0.490236    10.591945     0.659817  \n",
       "std       0.151345     0.113653     1.217787     0.473831  \n",
       "min       2.720000     0.220000     8.000000     0.000000  \n",
       "25%       3.090000     0.410000     9.500000     0.000000  \n",
       "50%       3.180000     0.480000    10.400000     1.000000  \n",
       "75%       3.290000     0.550000    11.400000     1.000000  \n",
       "max       3.820000     1.080000    14.200000     1.000000  "
      ]
     },
     "execution_count": 10,
     "metadata": {},
     "output_type": "execute_result"
    }
   ],
   "source": [
    "# Médias e desvios padrões\n",
    "\n",
    "df_white.describe()"
   ]
  },
  {
   "cell_type": "code",
   "execution_count": 11,
   "id": "ca0bfa50",
   "metadata": {},
   "outputs": [],
   "source": [
    "# Definindo o X e o y\n",
    "\n",
    "X = df_white[['fixed acidity', 'volatile acidity', 'citric acid','residual sugar', 'chlorides', 'free sulfur dioxide','total sulfur dioxide', 'density', 'pH', 'sulphates','alcohol']]\n",
    "y = df_white['opinion']"
   ]
  },
  {
   "cell_type": "code",
   "execution_count": 12,
   "id": "4e0bf034",
   "metadata": {},
   "outputs": [],
   "source": [
    "# Divisão dos dados em treinamento e teste\n",
    "\n",
    "from sklearn.model_selection import train_test_split\n",
    "\n",
    "X_train, X_test, y_train, y_test = train_test_split(X, y,test_size = 0.3, random_state = 0)"
   ]
  },
  {
   "cell_type": "code",
   "execution_count": 13,
   "id": "287352c3",
   "metadata": {},
   "outputs": [],
   "source": [
    "# Padronizando/normalizando os dados de entrada para a mesma escala\n",
    "from sklearn.preprocessing import StandardScaler\n",
    "scaler = StandardScaler()\n",
    "scaler.fit(X_train)\n",
    "X_train = scaler.transform(X_train)\n",
    "X_test = scaler.transform(X_test)"
   ]
  },
  {
   "cell_type": "markdown",
   "id": "1384a97b",
   "metadata": {},
   "source": [
    "4.b - \tTreine um modelo de regressão logística usando um modelo de validação cruzada estratificada com k-folds (k=10) para realizar a classificação. Calcule para a base de teste:\n",
    "\n",
    "i. a média e desvio da acurácia dos modelos obtidos;\\\n",
    "ii. a média e desvio da precisão dos modelos obtidos;\\\n",
    "iii. a média e desvio da recall dos modelos obtidos;\\\n",
    "iv. a média e desvio do f1-score dos modelos obtidos.\n"
   ]
  },
  {
   "cell_type": "code",
   "execution_count": 14,
   "id": "84db2b96",
   "metadata": {},
   "outputs": [],
   "source": [
    "from sklearn.model_selection import cross_val_score\n",
    "from sklearn.model_selection import KFold\n",
    "from sklearn import metrics\n",
    "from sklearn.metrics import make_scorer,accuracy_score, precision_score, recall_score, f1_score"
   ]
  },
  {
   "cell_type": "code",
   "execution_count": 15,
   "id": "a77a6f4e",
   "metadata": {},
   "outputs": [],
   "source": [
    "# definindo função para o cross_val_score e make_scorer\n",
    "\n",
    "def medias_kfold(model, X_train, y_train):\n",
    "    scores_acc = cross_val_score(model, X_train, y_train, cv = 10, scoring= make_scorer(accuracy_score))\n",
    "    print(\"\\nCross Validation Scores - Accuracy: \", scores_acc)\n",
    "    print(\"Média CV Score - Accuracy: \", scores_acc.mean())\n",
    "\n",
    "    scores_pre = cross_val_score(model, X_train, y_train, cv = 10, scoring= make_scorer(precision_score))\n",
    "    print(\"\\nCross Validation Scores - Precision: \", scores_pre)\n",
    "    print(\"Média CV Score - Precision: \", scores_pre.mean())\n",
    "\n",
    "    scores_rec = cross_val_score(model, X_train, y_train, cv = 10, scoring= make_scorer(recall_score))\n",
    "    print(\"\\nCross Validation Scores - Recall: \", scores_rec)\n",
    "    print(\"Média CV Score - Recall: \", scores_rec.mean())\n",
    "\n",
    "    scores_f1 = cross_val_score(model, X_train, y_train, cv = 10, scoring= make_scorer(f1_score))\n",
    "    print(\"\\nCross Validation Scores - f1 Score: \", scores_f1)\n",
    "    print(\"Média CV Score - f1 Score: \", scores_f1.mean())"
   ]
  },
  {
   "cell_type": "code",
   "execution_count": 16,
   "id": "e2faf49b",
   "metadata": {},
   "outputs": [],
   "source": [
    "from sklearn import metrics\n",
    "from sklearn.linear_model import LogisticRegression\n",
    "from sklearn.metrics import make_scorer,accuracy_score, precision_score, recall_score, f1_score"
   ]
  },
  {
   "cell_type": "code",
   "execution_count": 17,
   "id": "0c52bc3e",
   "metadata": {},
   "outputs": [],
   "source": [
    "# Aplicando o modelo de Regressão logistica\n",
    "\n",
    "lr = LogisticRegression(C=0.01, solver='liblinear').fit(X_train,y_train)\n",
    "y_pred = lr.predict(X_test)"
   ]
  },
  {
   "cell_type": "code",
   "execution_count": 18,
   "id": "44f3fa72",
   "metadata": {},
   "outputs": [
    {
     "name": "stdout",
     "output_type": "stream",
     "text": [
      "Accuracy Test: 0.7624683009298394\n",
      "Precision Test: 0.7965116279069767\n",
      "Recall Test: 0.865992414664981\n",
      "F1-score Test: 0.8298001211387037\n"
     ]
    }
   ],
   "source": [
    "# Avaliando o desempenho do modelo\n",
    "print(\"Accuracy Test:\",metrics.accuracy_score(y_test, y_pred))\n",
    "print(\"Precision Test:\",metrics.precision_score(y_test,y_pred))\n",
    "print(\"Recall Test:\",metrics.recall_score(y_test,y_pred))\n",
    "print(\"F1-score Test:\",metrics.f1_score(y_test,y_pred))"
   ]
  },
  {
   "cell_type": "code",
   "execution_count": 19,
   "id": "f3a649b4",
   "metadata": {},
   "outputs": [
    {
     "name": "stdout",
     "output_type": "stream",
     "text": [
      "\n",
      "Cross Validation Scores - Accuracy:  [0.72463768 0.69565217 0.76449275 0.73188406 0.76086957 0.76449275\n",
      " 0.70289855 0.72463768 0.75       0.73454545]\n",
      "Média CV Score - Accuracy:  0.7354110671936759\n",
      "\n",
      "Cross Validation Scores - Precision:  [0.77777778 0.7255814  0.78712871 0.74883721 0.77777778 0.79292929\n",
      " 0.7281106  0.75609756 0.78       0.77      ]\n",
      "Média CV Score - Precision:  0.7644240326061249\n",
      "\n",
      "Cross Validation Scores - Recall:  [0.8121547  0.86187845 0.87845304 0.88950276 0.88950276 0.86740331\n",
      " 0.87292818 0.85635359 0.86187845 0.85082873]\n",
      "Média CV Score - Recall:  0.8640883977900552\n",
      "\n",
      "Cross Validation Scores - f1 Score:  [0.79459459 0.78787879 0.83028721 0.81313131 0.82989691 0.82849604\n",
      " 0.79396985 0.80310881 0.81889764 0.80839895]\n",
      "Média CV Score - f1 Score:  0.8108660096766764\n"
     ]
    }
   ],
   "source": [
    "resultado_rl = medias_kfold(lr, X_train, y_train)"
   ]
  },
  {
   "cell_type": "markdown",
   "id": "0792c599",
   "metadata": {},
   "source": [
    "4c.\tTreine um modelo de árvores de decisão usando um modelo de validação cruzada estratificada com k-folds (k=10) para realizar a classificação. Calcule para a base de teste:\n",
    "\n",
    "i. a média e desvio da acurácia dos modelos obtidos;\\\n",
    "ii. a média e desvio da precisão dos modelos obtidos;\\\n",
    "iii. a média e desvio da recall dos modelos obtidos;\\\n",
    "iv. a média e desvio do f1-score dos modelos obtidos.\n"
   ]
  },
  {
   "cell_type": "code",
   "execution_count": 21,
   "id": "a96df38e",
   "metadata": {},
   "outputs": [
    {
     "name": "stdout",
     "output_type": "stream",
     "text": [
      "Accuracy Test: 0.7100591715976331\n",
      "Precision Test: 0.787917737789203\n",
      "Recall Test: 0.7749683944374209\n",
      "F1-score Test: 0.7813894200127468\n"
     ]
    }
   ],
   "source": [
    "from sklearn.tree import DecisionTreeClassifier\n",
    "\n",
    "dTree = DecisionTreeClassifier(criterion=\"entropy\", max_depth=None)\n",
    "dTree = dTree.fit(X_train,y_train)\n",
    "y_pred = dTree.predict(X_test)\n",
    "\n",
    "print(\"Accuracy Test:\",metrics.accuracy_score(y_test, y_pred))\n",
    "print(\"Precision Test:\",metrics.precision_score(y_test,y_pred))\n",
    "print(\"Recall Test:\",metrics.recall_score(y_test,y_pred))\n",
    "print(\"F1-score Test:\",metrics.f1_score(y_test,y_pred))"
   ]
  },
  {
   "cell_type": "code",
   "execution_count": 22,
   "id": "0582cef7",
   "metadata": {},
   "outputs": [
    {
     "name": "stdout",
     "output_type": "stream",
     "text": [
      "\n",
      "Cross Validation Scores - Accuracy:  [0.69202899 0.70289855 0.72101449 0.69927536 0.7173913  0.69202899\n",
      " 0.69927536 0.71014493 0.76086957 0.69818182]\n",
      "Média CV Score - Accuracy:  0.7093109354413702\n",
      "\n",
      "Cross Validation Scores - Precision:  [0.7752809  0.75       0.77472527 0.76966292 0.76165803 0.80113636\n",
      " 0.77647059 0.78333333 0.79255319 0.77094972]\n",
      "Média CV Score - Precision:  0.7755770323402821\n",
      "\n",
      "Cross Validation Scores - Recall:  [0.75690608 0.78453039 0.7679558  0.77348066 0.79558011 0.74585635\n",
      " 0.71270718 0.7679558  0.84530387 0.73480663]\n",
      "Média CV Score - Recall:  0.7685082872928176\n",
      "\n",
      "Cross Validation Scores - f1 Score:  [0.77260274 0.75268817 0.79558011 0.77437326 0.79569892 0.77871148\n",
      " 0.75       0.78212291 0.81401617 0.77348066]\n",
      "Média CV Score - f1 Score:  0.7789274431162319\n"
     ]
    }
   ],
   "source": [
    "resultado_dTree = medias_kfold(dTree, X_train, y_train)"
   ]
  },
  {
   "cell_type": "markdown",
   "id": "6d9ab0f9",
   "metadata": {},
   "source": [
    "d.\tTreine um modelo de SVM usando um modelo de validação cruzada estratificada com k-folds (k=10) para realizar a classificação. Calcule para a base de teste:\n",
    "\n",
    "i. a média e desvio da acurácia dos modelos obtidos;\\\n",
    "ii. a média e desvio da precisão dos modelos obtidos;\\\n",
    "iii. a média e desvio da recall dos modelos obtidos;\\\n",
    "iv. a média e desvio do f1-score dos modelos obtidos.\n"
   ]
  },
  {
   "cell_type": "code",
   "execution_count": 23,
   "id": "52ce767d",
   "metadata": {},
   "outputs": [
    {
     "name": "stdout",
     "output_type": "stream",
     "text": [
      "Accuracy Test: 0.7878275570583263\n",
      "Precision Test: 0.8260869565217391\n",
      "Recall Test: 0.8647281921618205\n",
      "F1-score Test: 0.8449660284126004\n"
     ]
    }
   ],
   "source": [
    "from sklearn import svm\n",
    "\n",
    "svm_clf = svm.SVC(kernel='rbf', probability=True).fit(X_train, y_train)\n",
    "y_pred = svm_clf.predict(X_test)\n",
    "\n",
    "print(\"Accuracy Test:\",metrics.accuracy_score(y_test, y_pred))\n",
    "print(\"Precision Test:\",metrics.precision_score(y_test,y_pred))\n",
    "print(\"Recall Test:\",metrics.recall_score(y_test,y_pred))\n",
    "print(\"F1-score Test:\",metrics.f1_score(y_test,y_pred))"
   ]
  },
  {
   "cell_type": "code",
   "execution_count": 24,
   "id": "0a0800c5",
   "metadata": {},
   "outputs": [
    {
     "name": "stdout",
     "output_type": "stream",
     "text": [
      "\n",
      "Cross Validation Scores - Accuracy:  [0.75362319 0.72826087 0.80797101 0.76086957 0.77173913 0.79710145\n",
      " 0.77898551 0.73188406 0.79710145 0.74909091]\n",
      "Média CV Score - Accuracy:  0.7676627140974966\n",
      "\n",
      "Cross Validation Scores - Precision:  [0.80213904 0.75980392 0.81683168 0.77777778 0.7979798  0.82051282\n",
      " 0.8030303  0.78306878 0.81094527 0.78      ]\n",
      "Média CV Score - Precision:  0.7952089398171422\n",
      "\n",
      "Cross Validation Scores - Recall:  [0.82872928 0.85635359 0.91160221 0.88950276 0.87292818 0.8839779\n",
      " 0.87845304 0.81767956 0.90055249 0.86187845]\n",
      "Média CV Score - Recall:  0.8701657458563536\n",
      "\n",
      "Cross Validation Scores - f1 Score:  [0.81521739 0.80519481 0.8616188  0.82989691 0.83377309 0.85106383\n",
      " 0.83905013 0.8        0.85340314 0.81889764]\n",
      "Média CV Score - f1 Score:  0.8308115730612389\n"
     ]
    }
   ],
   "source": [
    "resultado_SVM = medias_kfold(svm_clf, X_train, y_train)"
   ]
  },
  {
   "cell_type": "markdown",
   "id": "ccd81068",
   "metadata": {},
   "source": [
    "5.\tEm relação à questão anterior, qual o modelo deveria ser escolhido para uma eventual operação. Responda essa questão mostrando a comparação de todos os modelos, usando um gráfico mostrando a curva ROC média para cada um dos gráficos e justifique."
   ]
  },
  {
   "cell_type": "code",
   "execution_count": 27,
   "id": "d0c1ac0d",
   "metadata": {},
   "outputs": [
    {
     "data": {
      "image/png": "[encoded data removed]",
      "text/plain": [
       "<Figure size 1000x800 with 1 Axes>"
      ]
     },
     "metadata": {},
     "output_type": "display_data"
    }
   ],
   "source": [
    "from sklearn.metrics import confusion_matrix, roc_auc_score, roc_curve, RocCurveDisplay, auc\n",
    "import matplotlib.pyplot as plt\n",
    "\n",
    "# Calcular as curvas ROC e AUC para cada modelo\n",
    "modelos = [lr,dTree,svm_clf]\n",
    "nomes_modelos = ['Regressão Logística', 'Árvore de Decisão', 'SVM']\n",
    "cores = ['blue', 'green', 'red']\n",
    "\n",
    "plt.figure(figsize=(10, 8))\n",
    "\n",
    "for modelo, nome, cor in zip(modelos, nomes_modelos, cores):\n",
    "    # Previsões de probabilidade para a classe positiva\n",
    "    probas = modelo.predict_proba(X_test)[:, 1]\n",
    "    # Calcular ROC\n",
    "    fpr, tpr, thresholds = roc_curve(y_test, probas)\n",
    "    # Calcular AUC\n",
    "    roc_auc = auc(fpr, tpr)\n",
    "    # Plotar a curva ROC\n",
    "    plt.plot(fpr, tpr, color=cor, lw=2, label=f'{nome} (AUC = {roc_auc:.2f})')\n",
    "\n",
    "# Adicionando detalhes ao gráfico\n",
    "plt.plot([0, 1], [0, 1], color='navy', lw=2, linestyle='--')\n",
    "plt.xlim([0.0, 1.0])\n",
    "plt.ylim([0.0, 1.05])\n",
    "plt.xlabel('Taxa de Falsos Positivos')\n",
    "plt.ylabel('Taxa de Verdadeiros Positivos')\n",
    "plt.title('Curvas ROC dos Modelos')\n",
    "plt.legend(loc=\"lower right\")\n",
    "plt.show()"
   ]
  },
  {
   "cell_type": "code",
   "execution_count": 29,
   "id": "8bf03dfd",
   "metadata": {},
   "outputs": [
    {
     "data": {
      "image/png": "[encoded data removed]",
      "text/plain": [
       "<Figure size 640x480 with 1 Axes>"
      ]
     },
     "metadata": {},
     "output_type": "display_data"
    },
    {
     "data": {
      "image/png": "[encoded data removed]",
      "text/plain": [
       "<Figure size 640x480 with 1 Axes>"
      ]
     },
     "metadata": {},
     "output_type": "display_data"
    },
    {
     "data": {
      "image/png": "[encoded data removed]",
      "text/plain": [
       "<Figure size 640x480 with 1 Axes>"
      ]
     },
     "metadata": {},
     "output_type": "display_data"
    }
   ],
   "source": [
    "RocCurveDisplay.from_estimator(lr, X_test, y_test,c=\"b\")\n",
    "RocCurveDisplay.from_estimator(dTree, X_test, y_test, c=\"g\")\n",
    "RocCurveDisplay.from_estimator(svm_clf, X_test, y_test, c=\"r\")\n",
    "plt.show()"
   ]
  },
  {
   "cell_type": "markdown",
   "id": "9d1062f7",
   "metadata": {},
   "source": [
    "Utilizando a curva ROC, podemos verificar que o SVM foi o modelo que apresentou o melhor valor com 0.84 comparado com o modelo de arvore de decisão com 0.68 e o de regressão logistica com 0.82."
   ]
  },
  {
   "cell_type": "markdown",
   "id": "2bd79032",
   "metadata": {},
   "source": [
    "6. Com a escolha do melhor modelo, use os dados de vinho tinto, presentes na base original e faça a inferência (não é para treinar novamente!!!) para saber quantos vinhos são bons ou ruins. Utilize o mesmo critério utilizado com os vinhos brancos, para comparar o desempenho do modelo. Ele funciona da mesma forma para essa nova base? \n",
    "Justifique."
   ]
  },
  {
   "cell_type": "code",
   "execution_count": 30,
   "id": "c778bf5c",
   "metadata": {},
   "outputs": [
    {
     "name": "stderr",
     "output_type": "stream",
     "text": [
      "C:\\Users\\Samsung\\AppData\\Local\\Temp\\ipykernel_2780\\2621620315.py:3: SettingWithCopyWarning: \n",
      "A value is trying to be set on a copy of a slice from a DataFrame.\n",
      "Try using .loc[row_indexer,col_indexer] = value instead\n",
      "\n",
      "See the caveats in the documentation: https://pandas.pydata.org/pandas-docs/stable/user_guide/indexing.html#returning-a-view-versus-a-copy\n",
      "  df_red['opinion'] = df_red['quality'].apply(lambda x: 0 if x <= 5 else 1)\n",
      "C:\\Users\\Samsung\\AppData\\Local\\Temp\\ipykernel_2780\\2621620315.py:4: SettingWithCopyWarning: \n",
      "A value is trying to be set on a copy of a slice from a DataFrame\n",
      "\n",
      "See the caveats in the documentation: https://pandas.pydata.org/pandas-docs/stable/user_guide/indexing.html#returning-a-view-versus-a-copy\n",
      "  df_red.drop(columns= 'quality', inplace= True)\n"
     ]
    }
   ],
   "source": [
    "#aplicando o mesmo tratamento da base de dados para os vinhos tintos\n",
    "df_red = df[df['type'] == 'red']\n",
    "df_red['opinion'] = df_red['quality'].apply(lambda x: 0 if x <= 5 else 1)\n",
    "df_red.drop(columns= 'quality', inplace= True)"
   ]
  },
  {
   "cell_type": "code",
   "execution_count": 31,
   "id": "c8962341",
   "metadata": {},
   "outputs": [],
   "source": [
    "df_red = df_red.dropna(axis=0)\n",
    "df_red = df_red.drop_duplicates()"
   ]
  },
  {
   "cell_type": "code",
   "execution_count": 32,
   "id": "8fe13843",
   "metadata": {},
   "outputs": [],
   "source": [
    "X = df_red[['fixed acidity', 'volatile acidity', 'citric acid','residual sugar', 'chlorides', 'free sulfur dioxide','total sulfur dioxide', 'density', 'pH', 'sulphates','alcohol']]\n",
    "y = df_red['opinion']"
   ]
  },
  {
   "cell_type": "code",
   "execution_count": 33,
   "id": "413af37a",
   "metadata": {},
   "outputs": [],
   "source": [
    "scaler = StandardScaler()\n",
    "scaler.fit(X)\n",
    "X = scaler.transform(X)\n",
    "\n",
    "ypred = svm_clf.predict(X)"
   ]
  },
  {
   "cell_type": "code",
   "execution_count": 34,
   "id": "14fb19e1",
   "metadata": {},
   "outputs": [
    {
     "name": "stderr",
     "output_type": "stream",
     "text": [
      "C:\\Users\\Samsung\\anaconda3\\lib\\site-packages\\sklearn\\base.py:420: UserWarning: X does not have valid feature names, but StandardScaler was fitted with feature names\n",
      "  warnings.warn(\n"
     ]
    },
    {
     "name": "stdout",
     "output_type": "stream",
     "text": [
      "Accuracy Test: 0.6681448632668144\n",
      "Precision Test: 0.6557377049180327\n",
      "Recall Test: 0.7832167832167832\n",
      "f1-score Test: 0.6625597281061477\n"
     ]
    }
   ],
   "source": [
    "svm_clf.predict(scaler.transform(X))\n",
    "\n",
    "print(\"Accuracy Test:\",metrics.accuracy_score(y, ypred))\n",
    "print(\"Precision Test:\",metrics.precision_score(y,ypred))\n",
    "print(\"Recall Test:\",metrics.recall_score(y,ypred))\n",
    "print(\"f1-score Test:\",metrics.f1_score(y,ypred, average='weighted'))"
   ]
  },
  {
   "cell_type": "code",
   "execution_count": 35,
   "id": "7f95aa84",
   "metadata": {},
   "outputs": [
    {
     "data": {
      "text/plain": [
       "<sklearn.metrics._plot.roc_curve.RocCurveDisplay at 0x1c9b791a920>"
      ]
     },
     "execution_count": 35,
     "metadata": {},
     "output_type": "execute_result"
    },
    {
     "data": {
      "image/png": "[encoded data removed]",
      "text/plain": [
       "<Figure size 640x480 with 1 Axes>"
      ]
     },
     "metadata": {},
     "output_type": "display_data"
    }
   ],
   "source": [
    "RocCurveDisplay.from_estimator(svm_clf, X, y)"
   ]
  },
  {
   "cell_type": "markdown",
   "id": "f185f361",
   "metadata": {},
   "source": [
    "Como podemos verificarcom os dados, o desempenho para a classificação da nova base de dados (vinhos tintos) não atinge a mesma eficácia. \n",
    "  \n"
   ]
  }
 ],
 "metadata": {
  "kernelspec": {
   "display_name": "Python 3 (ipykernel)",
   "language": "python",
   "name": "python3"
  },
  "language_info": {
   "codemirror_mode": {
    "name": "ipython",
    "version": 3
   },
   "file_extension": ".py",
   "mimetype": "text/x-python",
   "name": "python",
   "nbconvert_exporter": "python",
   "pygments_lexer": "ipython3",
   "version": "3.10.9"
  }
 },
 "nbformat": 4,
 "nbformat_minor": 5
}
